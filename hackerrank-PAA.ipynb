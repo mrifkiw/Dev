{
  "nbformat": 4,
  "nbformat_minor": 0,
  "metadata": {
    "colab": {
      "name": "Welcome To Colaboratory",
      "provenance": [],
      "collapsed_sections": [],
      "toc_visible": true,
      "include_colab_link": true
    },
    "kernelspec": {
      "display_name": "Python 3",
      "name": "python3"
    }
  },
  "cells": [
    {
      "cell_type": "markdown",
      "metadata": {
        "id": "view-in-github",
        "colab_type": "text"
      },
      "source": [
        "<a href=\"https://colab.research.google.com/github/mrifkiw/Dev/blob/master/hackerrank-PAA.ipynb\" target=\"_parent\"><img src=\"https://colab.research.google.com/assets/colab-badge.svg\" alt=\"Open In Colab\"/></a>"
      ]
    },
    {
      "cell_type": "code",
      "metadata": {
        "id": "Qt56LbV8LOrI"
      },
      "source": [
        "cont = [4504,1520,5857,4094,4157,3902,822,6643,2422,7288,8245,9948,2822,1784,7802,3142,9739,5629,5413,7232]\n"
      ],
      "execution_count": 55,
      "outputs": []
    },
    {
      "cell_type": "code",
      "metadata": {
        "id": "DIbcGx9ITJ4S",
        "outputId": "a24f150a-5348-4518-fe6e-d502c43fc468",
        "colab": {
          "base_uri": "https://localhost:8080/",
          "height": 34
        }
      },
      "source": [
        "cont[-1]"
      ],
      "execution_count": 36,
      "outputs": [
        {
          "output_type": "execute_result",
          "data": {
            "text/plain": [
              "7232"
            ]
          },
          "metadata": {
            "tags": []
          },
          "execution_count": 36
        }
      ]
    },
    {
      "cell_type": "code",
      "metadata": {
        "id": "LM8bTC_CLPHi"
      },
      "source": [
        "def maxMin(k,arr):\n",
        "  arr = sorted(arr)\n",
        "  i = -1\n",
        "  j = k - 2\n",
        "  m = arr[-1]\n",
        "  while(j < len(arr)-1):\n",
        "    j+=1\n",
        "    i+=1\n",
        "    max_arr = arr[j]\n",
        "    min_arr = arr[i]\n",
        "    m = min(m, max_arr - min_arr)\n",
        "    print(\"i=>\",i,\" j=> \",j,\"max,min=>\",\"[\",max_arr,\",\",min_arr,\"]\",\" m => \",m)\n",
        "  return m\n",
        "\n"
      ],
      "execution_count": 33,
      "outputs": []
    },
    {
      "cell_type": "code",
      "metadata": {
        "id": "13cnwXSZLwuu",
        "outputId": "60d64b76-9ddf-499a-b4c7-a32d83ea401a",
        "colab": {
          "base_uri": "https://localhost:8080/",
          "height": 306
        }
      },
      "source": [
        "print(maxMin(5,cont))"
      ],
      "execution_count": 34,
      "outputs": [
        {
          "output_type": "stream",
          "text": [
            "i=> 0  j=>  4 max,min=> [ 2822 , 822 ]  m =>  2000\n",
            "i=> 1  j=>  5 max,min=> [ 3142 , 1520 ]  m =>  1622\n",
            "i=> 2  j=>  6 max,min=> [ 3902 , 1784 ]  m =>  1622\n",
            "i=> 3  j=>  7 max,min=> [ 4094 , 2422 ]  m =>  1622\n",
            "i=> 4  j=>  8 max,min=> [ 4157 , 2822 ]  m =>  1335\n",
            "i=> 5  j=>  9 max,min=> [ 4504 , 3142 ]  m =>  1335\n",
            "i=> 6  j=>  10 max,min=> [ 5413 , 3902 ]  m =>  1335\n",
            "i=> 7  j=>  11 max,min=> [ 5629 , 4094 ]  m =>  1335\n",
            "i=> 8  j=>  12 max,min=> [ 5857 , 4157 ]  m =>  1335\n",
            "i=> 9  j=>  13 max,min=> [ 6643 , 4504 ]  m =>  1335\n",
            "i=> 10  j=>  14 max,min=> [ 7232 , 5413 ]  m =>  1335\n",
            "i=> 11  j=>  15 max,min=> [ 7288 , 5629 ]  m =>  1335\n",
            "i=> 12  j=>  16 max,min=> [ 7802 , 5857 ]  m =>  1335\n",
            "i=> 13  j=>  17 max,min=> [ 8245 , 6643 ]  m =>  1335\n",
            "i=> 14  j=>  18 max,min=> [ 9739 , 7232 ]  m =>  1335\n",
            "i=> 15  j=>  19 max,min=> [ 9948 , 7288 ]  m =>  1335\n",
            "1335\n"
          ],
          "name": "stdout"
        }
      ]
    },
    {
      "cell_type": "code",
      "metadata": {
        "id": "1A8Goi34VhEh"
      },
      "source": [
        "arr = [10,100,300,200,1000,20,30]"
      ],
      "execution_count": 43,
      "outputs": []
    },
    {
      "cell_type": "code",
      "metadata": {
        "id": "me0LcqTnV5tR",
        "outputId": "05723294-a674-4211-e335-68ac09ab5b15",
        "colab": {
          "base_uri": "https://localhost:8080/",
          "height": 34
        }
      },
      "source": [
        "len(arr)-3-1"
      ],
      "execution_count": 48,
      "outputs": [
        {
          "output_type": "execute_result",
          "data": {
            "text/plain": [
              "3"
            ]
          },
          "metadata": {
            "tags": []
          },
          "execution_count": 48
        }
      ]
    },
    {
      "cell_type": "code",
      "metadata": {
        "id": "FO3xU5jfV9OI",
        "outputId": "adecac07-5fdb-443e-c6e2-424d98930dc8",
        "colab": {
          "base_uri": "https://localhost:8080/",
          "height": 357
        }
      },
      "source": [
        "arr = sorted(cont)\n",
        "arr"
      ],
      "execution_count": 56,
      "outputs": [
        {
          "output_type": "execute_result",
          "data": {
            "text/plain": [
              "[822,\n",
              " 1520,\n",
              " 1784,\n",
              " 2422,\n",
              " 2822,\n",
              " 3142,\n",
              " 3902,\n",
              " 4094,\n",
              " 4157,\n",
              " 4504,\n",
              " 5413,\n",
              " 5629,\n",
              " 5857,\n",
              " 6643,\n",
              " 7232,\n",
              " 7288,\n",
              " 7802,\n",
              " 8245,\n",
              " 9739,\n",
              " 9948]"
            ]
          },
          "metadata": {
            "tags": []
          },
          "execution_count": 56
        }
      ]
    },
    {
      "cell_type": "code",
      "metadata": {
        "id": "HHDpWXsUWn89"
      },
      "source": [
        ""
      ],
      "execution_count": null,
      "outputs": []
    },
    {
      "cell_type": "code",
      "metadata": {
        "id": "bso2otJ8NeFh",
        "outputId": "63f27b95-3aa6-4e36-cc05-896ffc637c01",
        "colab": {
          "base_uri": "https://localhost:8080/",
          "height": 272
        }
      },
      "source": [
        "\n",
        "k=5\n",
        "res = arr[-1] #membuat penguji yang paling besar\n",
        "jangkauan = len(arr)-k-1 # k elemen sebelum list berakhir\n",
        "for i in range(len(arr)-k-1):  \n",
        "  j = i + k-1\n",
        "  arr_max = arr[j]\n",
        "  arr_min = arr[i]\n",
        "  res = min(res,arr_max - arr_min)\n",
        "  print(\"i=>\",i,\" j=> \",j,\"max,min=>\",\"[\",arr_max,\",\",arr_min,\"]\",\" res => \",res)\n",
        "print(res)"
      ],
      "execution_count": 58,
      "outputs": [
        {
          "output_type": "stream",
          "text": [
            "i=> 0  j=>  4 max,min=> [ 2822 , 822 ]  res =>  2000\n",
            "i=> 1  j=>  5 max,min=> [ 3142 , 1520 ]  res =>  1622\n",
            "i=> 2  j=>  6 max,min=> [ 3902 , 1784 ]  res =>  1622\n",
            "i=> 3  j=>  7 max,min=> [ 4094 , 2422 ]  res =>  1622\n",
            "i=> 4  j=>  8 max,min=> [ 4157 , 2822 ]  res =>  1335\n",
            "i=> 5  j=>  9 max,min=> [ 4504 , 3142 ]  res =>  1335\n",
            "i=> 6  j=>  10 max,min=> [ 5413 , 3902 ]  res =>  1335\n",
            "i=> 7  j=>  11 max,min=> [ 5629 , 4094 ]  res =>  1335\n",
            "i=> 8  j=>  12 max,min=> [ 5857 , 4157 ]  res =>  1335\n",
            "i=> 9  j=>  13 max,min=> [ 6643 , 4504 ]  res =>  1335\n",
            "i=> 10  j=>  14 max,min=> [ 7232 , 5413 ]  res =>  1335\n",
            "i=> 11  j=>  15 max,min=> [ 7288 , 5629 ]  res =>  1335\n",
            "i=> 12  j=>  16 max,min=> [ 7802 , 5857 ]  res =>  1335\n",
            "i=> 13  j=>  17 max,min=> [ 8245 , 6643 ]  res =>  1335\n",
            "1335\n"
          ],
          "name": "stdout"
        }
      ]
    }
  ]
}